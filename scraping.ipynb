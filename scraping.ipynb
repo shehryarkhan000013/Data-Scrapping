{
 "cells": [
  {
   "cell_type": "code",
   "execution_count": 1,
   "metadata": {},
   "outputs": [],
   "source": [
    "import requests\n",
    "from bs4 import BeautifulSoup"
   ]
  },
  {
   "cell_type": "code",
   "execution_count": 4,
   "metadata": {},
   "outputs": [],
   "source": [
    "url= \"https://pakistan.diplo.de/\"\n",
    "response = requests.get(url)\n",
    "if response.status_code == 200:\n",
    "    html_content = response.content \n",
    "    soup = BeautifulSoup(html_content, \"html.parser\")\n",
    "else:\n",
    "    print('failed')\n",
    "    "
   ]
  },
  {
   "cell_type": "code",
   "execution_count": 5,
   "metadata": {},
   "outputs": [
    {
     "name": "stdout",
     "output_type": "stream",
     "text": [
      "found 5 image(s)\n",
      "['/blob/772/47f731c5aa09d415e52ad2d35c55a7be/aamt-logo-sp-data.svg', '/blob/292/1d405f76d7ae8e678c7864e62790f650/loading-data.gif', '/blob/292/1d405f76d7ae8e678c7864e62790f650/loading-data.gif', '/blob/292/1d405f76d7ae8e678c7864e62790f650/loading-data.gif', '//piwik.auswaertiges-amt.de/matomo.php?idsite=123&rec=1']\n"
     ]
    }
   ],
   "source": [
    "image_urls=[]\n",
    "img_tags=soup.find_all('img')\n",
    "\n",
    "for img in img_tags:\n",
    "    src = img.get('src')\n",
    "    if src:\n",
    "        image_urls.append(src)\n",
    "print('found',len(image_urls),'image(s)')\n",
    "print(image_urls)"
   ]
  },
  {
   "cell_type": "code",
   "execution_count": 6,
   "metadata": {},
   "outputs": [
    {
     "name": "stdout",
     "output_type": "stream",
     "text": [
      "image 1:unknown url type: '/blob/772/47f731c5aa09d415e52ad2d35c55a7be/aamt-logo-sp-data.svg' could not be downloaded\n",
      "image 2:unknown url type: '/blob/292/1d405f76d7ae8e678c7864e62790f650/loading-data.gif' could not be downloaded\n",
      "image 3:unknown url type: '/blob/292/1d405f76d7ae8e678c7864e62790f650/loading-data.gif' could not be downloaded\n",
      "image 4:unknown url type: '/blob/292/1d405f76d7ae8e678c7864e62790f650/loading-data.gif' could not be downloaded\n",
      "image 5:unknown url type: '//piwik.auswaertiges-amt.de/matomo.php?idsite=123&rec=1' could not be downloaded\n"
     ]
    }
   ],
   "source": [
    "import os\n",
    "import urllib.request\n",
    "os.makedirs(\"E:\\Advance python\\images\", exist_ok=True)\n",
    "for i, url in enumerate(image_urls):\n",
    "    try:\n",
    "        image_name= f'image_{1}.png'\n",
    "        urllib.request.urlretrieve(url, os.path.join('E:\\Advance python\\images', image_name))\n",
    "        print(f'image {i} downloaded Succesfully')\n",
    "    except Exception as e:\n",
    "        print(f'image {i+1}:{e} could not be downloaded')\n",
    "     \n"
   ]
  },
  {
   "cell_type": "code",
   "execution_count": 8,
   "metadata": {},
   "outputs": [
    {
     "name": "stdout",
     "output_type": "stream",
     "text": [
      "Found 5 image(s) on https://pakistan.diplo.de/\n",
      "Total 0 images downloaded\n"
     ]
    }
   ],
   "source": [
    "import os\n",
    "import requests\n",
    "from bs4 import BeautifulSoup\n",
    "import urllib.request\n",
    "from urllib.parse import urlparse\n",
    "\n",
    "def download_images(url, image_limit=10):\n",
    "    try:\n",
    "        response = requests.get(url)\n",
    "        if response.status_code != 200:\n",
    "            print(f\"Failed to retrieve the webpage: {url}\")\n",
    "            return\n",
    "\n",
    "        html_content = response.content\n",
    "        soup = BeautifulSoup(html_content, 'html.parser')\n",
    "\n",
    "        image_urls = []\n",
    "        img_tags = soup.find_all('img')\n",
    "\n",
    "        for img in img_tags:\n",
    "            src = img.get('src')\n",
    "            if src:\n",
    "                image_urls.append(src)\n",
    "\n",
    "        print(f\"Found {len(image_urls)} image(s) on {url}\")\n",
    "\n",
    "        downloaded_count = 0\n",
    "        os.makedirs('images', exist_ok=True)\n",
    "\n",
    "        for i, url in enumerate(image_urls):\n",
    "            if downloaded_count >= image_limit:\n",
    "                break\n",
    "\n",
    "            try:\n",
    "               \n",
    "                if not bool(urlparse(url).netloc):\n",
    "                    \n",
    "                    url = f\"{response.url}/{url}\"\n",
    "\n",
    "               \n",
    "                if url.endswith('.jpg') or url.endswith('.jpeg') or url.endswith('.png'):\n",
    "                    image_name = f'image_{i}.{\"jpg\" if url.endswith(\".jpg\") or url.endswith(\".jpeg\") else \"png\"}'\n",
    "                    urllib.request.urlretrieve(url, os.path.join('images', image_name))\n",
    "                    downloaded_count += 1\n",
    "                    print(f\"Downloaded image {downloaded_count}/{image_limit}: {url}\")\n",
    "            except Exception as e:\n",
    "                print(f\"Error downloading image: {e}\")\n",
    "\n",
    "        print(f\"Total {downloaded_count} images downloaded\")\n",
    "\n",
    "    except Exception as e:\n",
    "        print(f\"Error: {e}\")\n",
    "        \n",
    "url_to_scrap=\"https://pakistan.diplo.de/\"\n",
    "download_images(url_to_scrap,image_limit=1000)"
   ]
  },
  {
   "cell_type": "code",
   "execution_count": 13,
   "metadata": {},
   "outputs": [
    {
     "name": "stdout",
     "output_type": "stream",
     "text": [
      "b'<html><body><h1>403 Forbidden</h1>\\nRequest forbidden by administrative rules.\\n</body></html>\\n'\n"
     ]
    }
   ],
   "source": [
    "import requests \n",
    "r=requests.get(\"https://service2.diplo.de/rktermin/extern/choose_category.do?locationCode=isla&realmId=108&categoryId=1600\")\n",
    "print(r.content)"
   ]
  },
  {
   "cell_type": "code",
   "execution_count": null,
   "metadata": {},
   "outputs": [],
   "source": []
  }
 ],
 "metadata": {
  "kernelspec": {
   "display_name": "Python 3",
   "language": "python",
   "name": "python3"
  },
  "language_info": {
   "codemirror_mode": {
    "name": "ipython",
    "version": 3
   },
   "file_extension": ".py",
   "mimetype": "text/x-python",
   "name": "python",
   "nbconvert_exporter": "python",
   "pygments_lexer": "ipython3",
   "version": "3.11.7"
  }
 },
 "nbformat": 4,
 "nbformat_minor": 2
}
